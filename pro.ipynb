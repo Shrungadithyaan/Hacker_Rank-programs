{
 "cells": [
  {
   "cell_type": "code",
   "execution_count": null,
   "metadata": {},
   "outputs": [],
   "source": [
    "\n",
    "n = int(input(\"Enter the number :\"))\n",
    "x = range(2,5)\n",
    "y = range(6,20)\n",
    "\n",
    "if n in x:\n",
    "    if n % 2 == 0:\n",
    "        print(\"Not Weird \")\n",
    "    else:\n",
    "        print(\"Weird\")\n",
    "elif n in y:  \n",
    "    if n%2 == 0:\n",
    "        print(\"Weird\")\n",
    "    else:\n",
    "        print(\"Weird\")\n",
    "elif n > 20:\n",
    "    print(\"Not Weird\")\n",
    "        \n"
   ]
  },
  {
   "cell_type": "code",
   "execution_count": 7,
   "metadata": {},
   "outputs": [
    {
     "name": "stdout",
     "output_type": "stream",
     "text": [
      "Not Weird\n"
     ]
    }
   ],
   "source": [
    "\n",
    "n = 24\n",
    "x = range(2,5)\n",
    "y = range(6,20)\n",
    "\n",
    "if n in x:\n",
    "    if n % 2 == 0:\n",
    "        print(\"Not Weird \")\n",
    "    else:\n",
    "        print(\"Weird\")\n",
    "if n in y and n%2 == 0:  \n",
    "    print(\"Weird\")\n",
    "    \n",
    "elif n > 20 and  n % 2==0:\n",
    "    print(\"Not Weird\")\n",
    "        \n"
   ]
  },
  {
   "cell_type": "code",
   "execution_count": null,
   "metadata": {},
   "outputs": [],
   "source": []
  }
 ],
 "metadata": {
  "kernelspec": {
   "display_name": "Python 3",
   "language": "python",
   "name": "python3"
  },
  "language_info": {
   "codemirror_mode": {
    "name": "ipython",
    "version": 3
   },
   "file_extension": ".py",
   "mimetype": "text/x-python",
   "name": "python",
   "nbconvert_exporter": "python",
   "pygments_lexer": "ipython3",
   "version": "3.10.11"
  },
  "orig_nbformat": 4
 },
 "nbformat": 4,
 "nbformat_minor": 2
}
