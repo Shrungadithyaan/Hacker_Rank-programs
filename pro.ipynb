{
 "cells": [
  {
   "cell_type": "code",
   "execution_count": null,
   "metadata": {},
   "outputs": [],
   "source": [
    "\n",
    "n = int(input(\"Enter the number :\"))\n",
    "x = range(2,5)\n",
    "y = range(6,20)\n",
    "\n",
    "if n in x:\n",
    "    if n % 2 == 0:\n",
    "        print(\"Not Weird \")\n",
    "    else:\n",
    "        print(\"Weird\")\n",
    "elif n in y:  \n",
    "    if n%2 == 0:\n",
    "        print(\"Weird\")\n",
    "    else:\n",
    "        print(\"Weird\")\n",
    "elif n > 20:\n",
    "    print(\"Not Weird\")\n",
    "        \n"
   ]
  },
  {
   "cell_type": "code",
   "execution_count": 7,
   "metadata": {},
   "outputs": [
    {
     "name": "stdout",
     "output_type": "stream",
     "text": [
      "Not Weird\n"
     ]
    }
   ],
   "source": [
    "\n",
    "n = 24\n",
    "x = range(2,5)\n",
    "y = range(6,20)\n",
    "\n",
    "if n in x:\n",
    "    if n % 2 == 0:\n",
    "        print(\"Not Weird \")\n",
    "    else:\n",
    "        print(\"Weird\")\n",
    "if n in y and n%2 == 0:  \n",
    "    print(\"Weird\")\n",
    "    \n",
    "elif n > 20 and  n % 2==0:\n",
    "    print(\"Not Weird\")\n",
    "        \n"
   ]
  },
  {
   "attachments": {},
   "cell_type": "markdown",
   "metadata": {},
   "source": [
    "Let's learn about list comprehensions! You are given three integers x,y and z.  representing the dimensions of a cuboid along with an integer . Print a list of all possible coordinates given by (i,j,k)  on a 3D grid where the sum of i+j+k  is not equal to . Here,0<= i<=x;0<=j<=y;0<=k<=z . Please use list comprehensions rather than multiple loops, as a learning exercise."
   ]
  },
  {
   "cell_type": "code",
   "execution_count": 1,
   "metadata": {},
   "outputs": [
    {
     "name": "stdout",
     "output_type": "stream",
     "text": [
      "[[0, 0, 0], [0, 0, 1], [0, 0, 2], [0, 1, 0], [0, 1, 1], [0, 2, 0], [0, 2, 2], [1, 0, 0], [1, 0, 1], [1, 1, 0], [1, 1, 2], [1, 2, 1], [1, 2, 2]]\n"
     ]
    }
   ],
   "source": [
    "if __name__ == '__main__':\n",
    "    x = int(input())\n",
    "    y = int(input())\n",
    "    z = int(input())\n",
    "    n = int(input())\n",
    "    \n",
    "    res=[]\n",
    "    for i in range(x+1):\n",
    "        for j in range(y+1):\n",
    "            for k in range(z+1):\n",
    "                if i+j+k != n:\n",
    "                    res.append([i,j,k])\n",
    "    print(res)               "
   ]
  },
  {
   "cell_type": "code",
   "execution_count": 5,
   "metadata": {},
   "outputs": [
    {
     "name": "stdout",
     "output_type": "stream",
     "text": [
      "[2, 2, 4, 4]\n"
     ]
    }
   ],
   "source": [
    "if __name__ == '__main__':\n",
    "    n = int(input())\n",
    "    arr = list(map(int, input().split()))\n",
    "    \n",
    "    a = max(arr)\n",
    "    a\n",
    "    \n",
    "    c = arr.count(a)    \n",
    "    for i in range(c):\n",
    "        arr.remove(a)\n",
    "    \n",
    "    print(arr)\n"
   ]
  },
  {
   "cell_type": "code",
   "execution_count": null,
   "metadata": {},
   "outputs": [],
   "source": []
  }
 ],
 "metadata": {
  "kernelspec": {
   "display_name": "Python 3",
   "language": "python",
   "name": "python3"
  },
  "language_info": {
   "codemirror_mode": {
    "name": "ipython",
    "version": 3
   },
   "file_extension": ".py",
   "mimetype": "text/x-python",
   "name": "python",
   "nbconvert_exporter": "python",
   "pygments_lexer": "ipython3",
   "version": "3.10.11"
  },
  "orig_nbformat": 4
 },
 "nbformat": 4,
 "nbformat_minor": 2
}
